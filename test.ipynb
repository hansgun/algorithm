{
 "cells": [
  {
   "cell_type": "code",
   "execution_count": 6,
   "metadata": {},
   "outputs": [],
   "source": [
    "from IPython.core.interactiveshell import InteractiveShell\n",
    "InteractiveShell.ast_node_interactivity = \"all\""
   ]
  },
  {
   "cell_type": "code",
   "execution_count": null,
   "metadata": {},
   "outputs": [],
   "source": [
    "def check(n) : \n",
    "\n",
    "    if str(n)[0] == 1 and n % (10**(len(str(n))-1)) == 0 : return n\n",
    "\n",
    "    print(f\"original : {n}, {sum([int(x) for x in str(n)])}\")\n",
    "    ans = n + 9\n",
    "    i = 0\n",
    "    while True : \n",
    "        nsum, ansSum = sum([int(x) for x in str(n)]), sum([int(x) for x in str(ans)])\n",
    "        if nsum == ansSum  : \n",
    "            print(f\"results : {ans}, {ansSum}\")\n",
    "            return ans\n",
    "        else : \n",
    "            print(f\"failed : {ans}, {ansSum}\")\n",
    "\n",
    "            ans = ans + 9\n",
    "            i += 1\n",
    "    \n",
    "    return n\n",
    "check(1099991)"
   ]
  },
  {
   "cell_type": "markdown",
   "metadata": {},
   "source": [
    "## 189. rotate array \n",
    "* Input: nums = [1,2,3,4,5,6,7], k = 3\n",
    "* Output: [5,6,7,1,2,3,4]\n",
    "\n",
    "\n",
    "#### List 추가\n",
    "```python\n",
    "n = list[int]\n",
    "\n",
    "n.append(x) : 마지막에 원소 추가\n",
    "n.insert(idx,x) : idx 에 x 값 추가\n",
    "```\n"
   ]
  },
  {
   "cell_type": "code",
   "execution_count": 130,
   "metadata": {},
   "outputs": [
    {
     "name": "stdout",
     "output_type": "stream",
     "text": [
      "[5, 6, 7, 1, 2, 3, 4]\n"
     ]
    },
    {
     "data": {
      "text/plain": [
       "[5, 6, 7, 1, 2, 3, 4]"
      ]
     },
     "execution_count": 130,
     "metadata": {},
     "output_type": "execute_result"
    }
   ],
   "source": [
    "'''\n",
    "189. rotate array \n",
    "Input: nums = [1,2,3,4,5,6,7], k = 3\n",
    "Output: [5,6,7,1,2,3,4]\n",
    "'''\n",
    "\n",
    "def rarray(n : list[int], k : int) -> list[int] : \n",
    "    for i in range(k, 0, -1) : \n",
    "        x = n.pop()\n",
    "        n.insert(0,x)\n",
    "    return n\n",
    "\n",
    "rarray([1,2,3,4,5,6,7], 3)\n",
    "\n"
   ]
  },
  {
   "cell_type": "markdown",
   "metadata": {},
   "source": [
    "## 997. Square of a sorted Array \n",
    "\n",
    "* Input: nums = [-4,-1,0,3,10]\n",
    "* Output: [0,1,9,16,100]\n",
    "* Explanation: After squaring, the array becomes [16,1,0,9,100].\n",
    "  After sorting, it becomes [0,1,9,16,100]."
   ]
  },
  {
   "cell_type": "code",
   "execution_count": 131,
   "metadata": {},
   "outputs": [
    {
     "data": {
      "text/plain": [
       "[0, 1, 9, 16, 100]"
      ]
     },
     "execution_count": 131,
     "metadata": {},
     "output_type": "execute_result"
    }
   ],
   "source": [
    "def sortedSquares(n : list[int]) -> list[int] : \n",
    "    sn = [x**2 for x in n]\n",
    "    return sorted(sn)\n",
    "\n",
    "sortedSquares([-4,-1,0,3,10])"
   ]
  },
  {
   "cell_type": "code",
   "execution_count": 135,
   "metadata": {},
   "outputs": [
    {
     "name": "stdout",
     "output_type": "stream",
     "text": [
      "i : 0, j : 3, index : 3, nums : [-4, -1, 0, 3, 10], r : [-4, -1, 0, 3, 100]\n",
      "i : 1, j : 3, index : 2, nums : [-4, -1, 0, 3, 10], r : [-4, -1, 0, 16, 100]\n",
      "i : 1, j : 2, index : 1, nums : [-4, -1, 0, 3, 10], r : [-4, -1, 9, 16, 100]\n",
      "i : 2, j : 2, index : 0, nums : [-4, -1, 0, 3, 10], r : [-4, 1, 9, 16, 100]\n",
      "i : 2, j : 1, index : -1, nums : [-4, -1, 0, 3, 10], r : [0, 1, 9, 16, 100]\n"
     ]
    },
    {
     "data": {
      "text/plain": [
       "[0, 1, 9, 16, 100]"
      ]
     },
     "execution_count": 135,
     "metadata": {},
     "output_type": "execute_result"
    }
   ],
   "source": [
    "def sortedSquares(nums: list[int]) -> list[int]:\n",
    "        r = nums[:]\n",
    "        i,j = 0, len(nums)-1\n",
    "        index = len(nums)-1\n",
    "        while i <= j:\n",
    "            i_val = nums[i]**2\n",
    "            j_val = nums[j]**2\n",
    "            \n",
    "            if i_val > j_val:\n",
    "                r[index] = i_val\n",
    "                i += 1\n",
    "            else:\n",
    "                r[index] = j_val\n",
    "                j -= 1\n",
    "            index -= 1\n",
    "            print(f\"i : {i}, j : {j}, index : {index}, nums : {nums}, r : {r}\")\n",
    "        return r\n",
    "sortedSquares([-4,-1,0,3,10])"
   ]
  },
  {
   "cell_type": "code",
   "execution_count": 15,
   "metadata": {},
   "outputs": [
    {
     "data": {
      "text/plain": [
       "'leo'"
      ]
     },
     "execution_count": 15,
     "metadata": {},
     "output_type": "execute_result"
    }
   ],
   "source": [
    "p = [\"leo\", \"kiki\", \"eden\"]\t\n",
    "c= [\"eden\", \"kiki\"]\n",
    "\n",
    "from collections import defaultdict\n",
    "def solution(p, c):\n",
    "    pm = defaultdict(int)\n",
    "    \n",
    "    for x in p : \n",
    "        pm[x] += 1\n",
    "    \n",
    "    for y in c : \n",
    "        pm[y] -= 1\n",
    "        if pm[y] == 0 : del pm[y]\n",
    "    \n",
    "    return list(pm.keys())[0]\n",
    "solution(p,c)"
   ]
  },
  {
   "cell_type": "markdown",
   "metadata": {},
   "source": [
    "#### 종류별 골라서 조합하는 경우의 수 찾기"
   ]
  },
  {
   "cell_type": "code",
   "execution_count": 56,
   "metadata": {},
   "outputs": [
    {
     "name": "stdout",
     "output_type": "stream",
     "text": [
      "{'face': 4}\n"
     ]
    },
    {
     "data": {
      "text/plain": [
       "3"
      ]
     },
     "execution_count": 56,
     "metadata": {},
     "output_type": "execute_result"
    }
   ],
   "source": [
    "s = [[\"yellow_hat\", \"headgear\"], [\"blue_sunglasses\", \"eyewear\"], [\"green_turban\", \"headgear\"]]\n",
    "s = [[\"crow_mask\", \"face\"], [\"blue_sunglasses\", \"face\"], [\"smoky_makeup\", \"face\"]]\n",
    "\n",
    "from functools import reduce\n",
    "def solution(clothes):\n",
    "    clothes_type = {}\n",
    "\n",
    "    for c, t in clothes:\n",
    "        if t not in clothes_type:\n",
    "            clothes_type[t] = 2\n",
    "        else:\n",
    "            clothes_type[t] += 1\n",
    "    print(clothes_type)\n",
    "    cnt = 1\n",
    "\n",
    "    cnt = reduce(lambda x,y : x*y,clothes_type.values())\n",
    "    return cnt - 1\n",
    "\n",
    "solution(s)"
   ]
  },
  {
   "cell_type": "code",
   "execution_count": 77,
   "metadata": {},
   "outputs": [
    {
     "name": "stdout",
     "output_type": "stream",
     "text": [
      "{'classic': [(500, 0)], 'pop': [(600, 1), (600, 4)], 'classic1': [(150, 2)], 'classic2': [(800, 3)]}\n",
      "[(600, 1), (600, 4), (800, 3), (500, 0), (150, 2)]\n"
     ]
    },
    {
     "data": {
      "text/plain": [
       "[1, 4, 3, 0, 2]"
      ]
     },
     "execution_count": 77,
     "metadata": {},
     "output_type": "execute_result"
    }
   ],
   "source": [
    "s=[\"classic\", \"pop\", \"classic1\", \"classic2\", \"pop\"]\t\n",
    "p = [500, 600, 150, 800, 600]\t\n",
    "results = [4, 1, 3, 0]\n",
    "\n",
    "\n",
    "def solution(s,p) : \n",
    "    dmap = {} \n",
    "    \n",
    "    for i, (g,c) in enumerate(list(zip(s,p))) : \n",
    "        if not g in dmap : dmap[g] = [(c,i)]\n",
    "        else : \n",
    "            dmap[g] = dmap[g] + [(c,i)]\n",
    "\n",
    "    gensorted = sorted(dmap.items(), key=lambda x : sum([y[0] for y in x[1]]), reverse=True)\n",
    "\n",
    "    temp = []\n",
    "    for g, v in gensorted : \n",
    "        temp.extend([x for x in sorted(v, key=lambda x : (x[0], -x[1]), reverse=True)][:2])\n",
    "\n",
    "    print(dmap)\n",
    "    print(temp)\n",
    "    ans = [x[1] for x in temp]\n",
    "    return ans\n",
    "solution(s,p)"
   ]
  },
  {
   "cell_type": "code",
   "execution_count": 81,
   "metadata": {},
   "outputs": [
    {
     "data": {
      "text/plain": [
       "[1, 3, 0, 1]"
      ]
     },
     "execution_count": 81,
     "metadata": {},
     "output_type": "execute_result"
    }
   ],
   "source": [
    "# 중복된 값은 넣지 않기\n",
    "def solution(arr):\n",
    "    \n",
    "    ans = []\n",
    "    lp, rp = 0, 0\n",
    "    lenarr = len(arr)\n",
    "    while lp < lenarr - 1 : \n",
    "        rp += 1\n",
    "        if rp == lenarr - 1 : \n",
    "            ans.append(arr[lp])\n",
    "            if arr[lp] != arr[rp] : \n",
    "                ans.append(arr[rp])\n",
    "            break\n",
    "            \n",
    "        if arr[lp] == arr[rp] : \n",
    "            continue \n",
    "        else :\n",
    "            ans.append(arr[lp])\n",
    "            lp = rp\n",
    "        \n",
    "    return ans\n",
    "\n",
    "solution([1,1,3,3,0,1,1])\n",
    "\n",
    "def no_continuous(s):\n",
    "    a = []\n",
    "    for i in s:\n",
    "        if a[-1:] == [i]: continue\n",
    "        a.append(i)\n",
    "        \n",
    "    return a\n",
    "no_continuous([1,1,3,3,0,1,1])\n"
   ]
  },
  {
   "cell_type": "code",
   "execution_count": 89,
   "metadata": {},
   "outputs": [
    {
     "data": {
      "text/plain": [
       "True"
      ]
     },
     "execution_count": 89,
     "metadata": {},
     "output_type": "execute_result"
    }
   ],
   "source": [
    "# 괄호의 숫자가 맞게 되어 있는 지 \n",
    "def solution(s):\n",
    "    q = 0 \n",
    "    if s[0] != \"(\" : return False\n",
    "\n",
    "    for x in s : \n",
    "        if q < 0 : return False\n",
    "        q = q+1 if x == \"(\" else q-1 if x == ')' else q\n",
    "\n",
    "    return q == 0\n",
    "\n",
    "solution(\"(())()\")"
   ]
  },
  {
   "cell_type": "code",
   "execution_count": 117,
   "metadata": {},
   "outputs": [
    {
     "name": "stdout",
     "output_type": "stream",
     "text": [
      "-1 1.6666666666666667\n",
      "-2 2.0\n"
     ]
    },
    {
     "data": {
      "text/plain": [
       "[2]"
      ]
     },
     "execution_count": 117,
     "metadata": {},
     "output_type": "execute_result"
    }
   ],
   "source": [
    "# 배포 분제\n",
    "p = [95,94]\n",
    "s = [3,3]\n",
    "results = [2, 1]\n",
    "\n",
    "def solution(p,s) : \n",
    "    Q = [] \n",
    "\n",
    "    for x, y in zip(p,s) : \n",
    "        remains = (100 - x ) // y if (100 - x) % y == 0 else (100 - x) // y + 1\n",
    "        if len(Q) == 0 or Q[-1][0] < remains : \n",
    "            Q.append([remains,1])\n",
    "        else : \n",
    "            Q[-1][1] += 1\n",
    "\n",
    "    return [q[1] for q in Q]\n",
    "\n",
    "solution(p,s)"
   ]
  },
  {
   "cell_type": "code",
   "execution_count": 2,
   "metadata": {},
   "outputs": [
    {
     "name": "stdout",
     "output_type": "stream",
     "text": [
      "[2, 1, 3, 2]\n",
      "d : [3, 2, 2, 1]\n",
      "Q : [[2, 0], [1, 1], [3, 2], [2, 3]]\n"
     ]
    },
    {
     "data": {
      "text/plain": [
       "1"
      ]
     },
     "execution_count": 2,
     "metadata": {},
     "output_type": "execute_result"
    }
   ],
   "source": [
    "def solution(p, l):\n",
    "    Q = []\n",
    "    d = sorted(p, reverse=True)\n",
    "    for i, z in enumerate(p) : \n",
    "        Q.append([z,i])\n",
    "    print(f\"d : {d}\")\n",
    "    print(f\"Q : {Q}\")\n",
    "    ans = 1\n",
    "    while len(Q) > 1 : \n",
    "        q = Q.pop(0)\n",
    "        if q[0] != d[0] :\n",
    "            Q.append(q)\n",
    "        else : \n",
    "            if q[1] == l : return ans\n",
    "            ans += 1\n",
    "            d.pop(0)\n",
    "    \n",
    "p = [2, 1, 3, 2]\n",
    "l = 2\n",
    "solution(p,l)"
   ]
  },
  {
   "cell_type": "code",
   "execution_count": 5,
   "metadata": {},
   "outputs": [
    {
     "name": "stdout",
     "output_type": "stream",
     "text": [
      "[0, 0, 1, 0, 0]\n",
      "[[0, 1], [1, 2], [3, 2], [4, 3]]\n",
      "[4, 3, 1, 1, 0]\n",
      "[[0, 1], [1, 2], [3, 2], [4, 3]]\n"
     ]
    },
    {
     "data": {
      "text/plain": [
       "[4, 3, 1, 1, 0]"
      ]
     },
     "execution_count": 5,
     "metadata": {},
     "output_type": "execute_result"
    }
   ],
   "source": [
    "def solution(prices):\n",
    "    answer = [0] * len(prices)\n",
    "    stack = [] \n",
    "    \n",
    "    for i, x in enumerate(prices) : \n",
    "        while stack != [] and stack[-1][1] > prices[i] : \n",
    "            past, _ = stack.pop()\n",
    "            answer[past] = i - past\n",
    "        stack.append([i, x])\n",
    "\n",
    "    for i, s in stack : \n",
    "        answer[i] = len(prices) - 1 - i        \n",
    "  \n",
    "    return answer\n",
    "\n",
    "prices = [1, 2, 3, 2, 3]\n",
    "solution(prices)"
   ]
  },
  {
   "cell_type": "code",
   "execution_count": 10,
   "metadata": {},
   "outputs": [
    {
     "data": {
      "text/plain": [
       "7"
      ]
     },
     "execution_count": 10,
     "metadata": {},
     "output_type": "execute_result"
    }
   ],
   "source": [
    "def solution(bridge_length, weight, truck_weights):\n",
    "    Q = [0] * bridge_length\n",
    "    ans = 0\n",
    "\n",
    "    while Q : \n",
    "        ans += 1\n",
    "        q = Q.pop(0)\n",
    "        sumq = sum(Q)\n",
    "        if truck_weights :\n",
    "            if sumq + truck_weights[0] <= weight :\n",
    "                Q.append(truck_weights.pop(0))\n",
    "            else : \n",
    "                Q.append(0)\n",
    "    \n",
    "    return ans\n",
    "solution(2,10,[7,4,2,3])"
   ]
  },
  {
   "cell_type": "code",
   "execution_count": 21,
   "metadata": {},
   "outputs": [
    {
     "data": {
      "text/plain": [
       "2"
      ]
     },
     "execution_count": 21,
     "metadata": {},
     "output_type": "execute_result"
    }
   ],
   "source": [
    "import heapq\n",
    "def solution(scoville, K):\n",
    "    scoville.sort()\n",
    "    care = scoville[:2]\n",
    "    targetx = care[0] + care[1] * 2\n",
    "\n",
    "    if targetx <= 0 : return -1\n",
    "    \n",
    "    return K // targetx if K % targetx == 0 else K // targetx + 1\n",
    "\n",
    "solution([1, 2, 11, 9, 10, 12], 7)"
   ]
  },
  {
   "cell_type": "markdown",
   "metadata": {},
   "source": [
    "## 양수 리스트 주어졌을 때  연결하여 만들 수  있는 가능한 큰  수"
   ]
  },
  {
   "cell_type": "code",
   "execution_count": 28,
   "metadata": {},
   "outputs": [
    {
     "name": "stdout",
     "output_type": "stream",
     "text": [
      "['333', '303030', '343434', '555', '999']\n"
     ]
    },
    {
     "data": {
      "text/plain": [
       "'9534330'"
      ]
     },
     "execution_count": 28,
     "metadata": {},
     "output_type": "execute_result"
    },
    {
     "name": "stdout",
     "output_type": "stream",
     "text": [
      "a : 5, b : 9, t1 : 59, t2 : 95\n",
      "a : 34, b : 5, t1 : 345, t2 : 534\n",
      "a : 30, b : 34, t1 : 3034, t2 : 3430\n",
      "a : 3, b : 30, t1 : 330, t2 : 303\n",
      "a : 3, b : 5, t1 : 35, t2 : 53\n",
      "a : 3, b : 34, t1 : 334, t2 : 343\n",
      "a : 3, b : 30, t1 : 330, t2 : 303\n"
     ]
    },
    {
     "data": {
      "text/plain": [
       "'9534330'"
      ]
     },
     "execution_count": 28,
     "metadata": {},
     "output_type": "execute_result"
    }
   ],
   "source": [
    "import functools\n",
    "\n",
    "def comparator(a,b):\n",
    "    t1 = a+b\n",
    "    t2 = b+a\n",
    "    print(f\"a : {a}, b : {b}, t1 : {t1}, t2 : {t2}\")\n",
    "    return (int(t1) > int(t2)) - (int(t1) < int(t2)) #  t1이 크다면 1  // t2가 크다면 -1  //  같으면 0\n",
    "\n",
    "def solution(numbers):\n",
    "    n = [str(x) for x in numbers]\n",
    "    n = sorted(n, key=functools.cmp_to_key(comparator),reverse=True)\n",
    "    answer = str(int(''.join(n)))\n",
    "    return answer\n",
    "\n",
    "def solution2(numbers):\n",
    "    numbers = list(map(str, numbers))\n",
    "    print([x*3 for x in numbers])\n",
    "    numbers.sort(key=lambda x: x*3, reverse=True)\n",
    "    return str(int(''.join(numbers)))\n",
    "\n",
    "n = [3, 30, 34, 5, 9]\n",
    "\n",
    "solution2(n)\n",
    "solution(n)"
   ]
  },
  {
   "cell_type": "code",
   "execution_count": 20,
   "metadata": {},
   "outputs": [
    {
     "name": "stdout",
     "output_type": "stream",
     "text": [
      "1 6\n",
      "2 5\n",
      "3 3\n",
      "4 1\n",
      "5 0\n",
      "[1, 2, 3, 1, 0]\n"
     ]
    },
    {
     "data": {
      "text/plain": [
       "3"
      ]
     },
     "execution_count": 20,
     "metadata": {},
     "output_type": "execute_result"
    }
   ],
   "source": [
    "def solution(citations):\n",
    "    citations.sort(reverse=True)\n",
    "    for i , x in enumerate(citations, start=1) : \n",
    "        print(i,x)\n",
    "    print(list(map(min, enumerate(citations, start=1))))\n",
    "    answer = max(map(min, enumerate(citations, start=1)))\n",
    "    return answer\n",
    "\n",
    "solution([3, 0, 6, 1, 5])"
   ]
  },
  {
   "cell_type": "code",
   "execution_count": 25,
   "metadata": {},
   "outputs": [
    {
     "name": "stdout",
     "output_type": "stream",
     "text": [
      "0, 0, 5\n",
      "1, 1, 4\n",
      "2, 3, 3\n"
     ]
    },
    {
     "data": {
      "text/plain": [
       "3"
      ]
     },
     "execution_count": 25,
     "metadata": {},
     "output_type": "execute_result"
    }
   ],
   "source": [
    "def solution(c) : \n",
    "    c.sort()\n",
    "    lenc = len(c)\n",
    "    for l in range(lenc) : \n",
    "        print(f\"{l}, {c[l]}, {lenc - l}\")\n",
    "        if c[l] >= lenc - l : return lenc - l\n",
    "    return 0\n",
    "\n",
    "solution([3, 0, 6, 1, 5])"
   ]
  },
  {
   "cell_type": "code",
   "execution_count": 6,
   "metadata": {},
   "outputs": [
    {
     "data": {
      "text/plain": [
       "0"
      ]
     },
     "execution_count": 6,
     "metadata": {},
     "output_type": "execute_result"
    }
   ],
   "source": [
    "def solution(n) : \n",
    "    # 한쪽에 맥스를 잡고 나머지에 min을 잡으면\n",
    "    maxA, minA = 0, 0\n",
    "\n",
    "    for x in n : \n",
    "        maxA = max(maxA, max(x))\n",
    "        minA = max(minA, min(x))\n",
    "    return maxA * minA\n",
    "n = [[60, 50], [30, 70], [60, 30], [80, 40]]\n",
    "n = []\n",
    "solution(n)"
   ]
  },
  {
   "cell_type": "code",
   "execution_count": 36,
   "metadata": {},
   "outputs": [
    {
     "name": "stdout",
     "output_type": "stream",
     "text": [
      "1\n",
      "1\n",
      "2\n",
      "[[1, 2, 3, 4, 5, 1, 2, 3], [2, 1, 2, 3, 2, 4, 2, 5], [3, 3, 1, 1, 2, 2, 4, 4]]\n"
     ]
    },
    {
     "data": {
      "text/plain": [
       "[1]"
      ]
     },
     "execution_count": 36,
     "metadata": {},
     "output_type": "execute_result"
    }
   ],
   "source": [
    "# 수포자\n",
    "# 1번 수포자가 찍는 방식: 1, 2, 3, 4, 5,    1, 2, 3, 4, 5, ...\n",
    "# 2번 수포자가 찍는 방식: 2, 1, 2, 3, 2, 4, 2, 5,    2, 1, 2, 3, 2, 4, 2, 5, ...\n",
    "# 3번 수포자가 찍는 방식: 3, 3, 1, 1, 2, 2, 4, 4, 5, 5,   3, 3, 1, 1, 2, 2, 4, 4, 5, 5,\n",
    "\n",
    "def solution(n) : \n",
    "    if len(n) == 0 : return []\n",
    "    if len(n) == 1 : return n\n",
    "    ans = [[1,2,3,4,5],[2,1,2,3,2,4,2,5],[3,3,1,1,2,2,4,4,5,5]]\n",
    "    ln = len(n)\n",
    "    res = []\n",
    "    for i, x in enumerate(ans) : \n",
    "        ans[i] = (x * -(-ln//len(x)))[:ln]\n",
    "        res.append([i+1,len([ans[i][x] for x in range(ln) if ans[i][x] == n[x]])])\n",
    "    maxA = max([x[1] for x in res])\n",
    "    res = [x[0] for x in res if x[1] == maxA]\n",
    "    return res\n",
    "\n",
    "n= [1,2,3,4,5,4,2,1]\n",
    "solution(n)"
   ]
  },
  {
   "cell_type": "markdown",
   "metadata": {},
   "source": [
    "### 분해합이 같고 N 보다 큰 가장 작은수"
   ]
  },
  {
   "cell_type": "code",
   "execution_count": 59,
   "metadata": {},
   "outputs": [
    {
     "data": {
      "text/plain": [
       "1290"
      ]
     },
     "execution_count": 59,
     "metadata": {},
     "output_type": "execute_result"
    }
   ],
   "source": [
    "# 분해합과 같고 n보다 큰 가장 작은 수 \n",
    "def test(n) : \n",
    "    dsum = sum([int(x) for x in str(n)])\n",
    "\n",
    "    while True : \n",
    "        n += 9\n",
    "        if sum([int(x) for x in str(n)]) == dsum : return n\n",
    "        for i,x in enumerate(str(n)[:1:-1]) : \n",
    "            if x == '0' : \n",
    "                n += 90 * i\n",
    "                if sum([int(x) for x in str(n)]) == dsum : return n\n",
    "    return -1\n",
    "test(1191)\n",
    "\n",
    "# 1991\n"
   ]
  },
  {
   "cell_type": "markdown",
   "metadata": {},
   "source": [
    "### 순열 조합 만들고 소수 갯수 구하기"
   ]
  },
  {
   "cell_type": "code",
   "execution_count": 129,
   "metadata": {},
   "outputs": [
    {
     "data": {
      "text/plain": [
       "2"
      ]
     },
     "execution_count": 129,
     "metadata": {},
     "output_type": "execute_result"
    }
   ],
   "source": [
    "from itertools import permutations\n",
    "# prime\n",
    "def isPrime(n) : \n",
    "    if n <= 1 : return False\n",
    "    if n <= 3 : return True\n",
    "    for i in range(2, int(n**(1/2))+1) : \n",
    "        if n % i == 0 : return False\n",
    "    return True\n",
    "\n",
    "def solution(n) : \n",
    "    nlist = []\n",
    "\n",
    "    # permutations\n",
    "    for i in range(1,len(n)+1) : \n",
    "        nlist.append(list(permutations(n,i)))\n",
    "    \n",
    "    nlist = [int(''.join(y)) for x in nlist for y in x ]\n",
    "    # join\n",
    "\n",
    "    return len([x for x in set(nlist) if isPrime(x)])\n",
    "\n",
    "\n",
    "solution(\"011\")"
   ]
  },
  {
   "cell_type": "code",
   "execution_count": 141,
   "metadata": {},
   "outputs": [
    {
     "data": {
      "text/plain": [
       "{1, 2, 3, 13, 23, 31}"
      ]
     },
     "execution_count": 141,
     "metadata": {},
     "output_type": "execute_result"
    }
   ],
   "source": [
    "from itertools import permutations\n",
    "def solution(n) : \n",
    "    ans = set() \n",
    "    for i in range(1,len(n)+1) : \n",
    "        ans |= set(map(int,(map(\"\".join, permutations(n,i)))))\n",
    "    \n",
    "    for i in range(2, int(max(ans)**(.5))+1) : \n",
    "        ans -= set(range((i*2), max(ans) + 1, i))\n",
    "        \n",
    "    return ans \n",
    "\n",
    "solution(\"123\")"
   ]
  },
  {
   "cell_type": "markdown",
   "metadata": {},
   "source": [
    "### permutation 구현"
   ]
  },
  {
   "cell_type": "code",
   "execution_count": 117,
   "metadata": {},
   "outputs": [
    {
     "name": "stdout",
     "output_type": "stream",
     "text": [
      "[[1, 2, 3], [1, 3, 2], [2, 1, 3], [2, 3, 1], [3, 1, 2], [3, 2, 1]]\n"
     ]
    }
   ],
   "source": [
    "def perm(n, i) : \n",
    "    result = [] \n",
    "    if i > len(n) : \n",
    "        return result\n",
    "    \n",
    "    if i == 1 : \n",
    "        for x in n : \n",
    "            result.append([x])\n",
    "\n",
    "    if i > 1 : \n",
    "        for x in range(len(n)) : \n",
    "            ans = [j for j in n] \n",
    "            ans.remove(n[x]) \n",
    "            for p in perm(ans, i-1) : \n",
    "                result.append([n[x]]+p)\n",
    "    return result\n",
    "\n",
    "print(perm([1,2,3],3))"
   ]
  },
  {
   "cell_type": "markdown",
   "metadata": {},
   "source": [
    "### 카펫"
   ]
  },
  {
   "cell_type": "code",
   "execution_count": null,
   "metadata": {},
   "outputs": [],
   "source": [
    "def solution(b, y) :\n",
    "    nr, nc = 0,0\n",
    "    # a * b = y \n",
    "    # (a+2) * (b+2) = b\n",
    "    # a >= b\n",
    "    for i in range()\n",
    "\n",
    "\n",
    "\n",
    "solution(10,2)"
   ]
  },
  {
   "cell_type": "code",
   "execution_count": 37,
   "metadata": {},
   "outputs": [
    {
     "name": "stdout",
     "output_type": "stream",
     "text": [
      "I0000\n"
     ]
    },
    {
     "data": {
      "text/plain": [
       "3"
      ]
     },
     "execution_count": 37,
     "metadata": {},
     "output_type": "execute_result"
    }
   ],
   "source": [
    "def solution(word):\n",
    "    dictWord = ['0', 'A', 'E', 'I', 'O', 'U']\n",
    "    lenW = len(word)\n",
    "    answer = 0\n",
    "    word = word.ljust(5, '0')\n",
    "    print(word)\n",
    "    for idx in range(lenW) : \n",
    "        x = word[idx]\n",
    "\n",
    "        if x == '0' : continue\n",
    "        ## 마지막 자리  \n",
    "        if idx == (lenW-1) : \n",
    "            answer += dictWord.index(x) \n",
    "        else : \n",
    "            answer += (dictWord.index(x)-1) * 5 ** (4-idx) + 1\n",
    "\n",
    "        # answer +=  (dictWord.index(x) - 1) * 5 ** (5-idx) + dictWord.index(x) - 1\n",
    "    return answer \n",
    "\n",
    "#solution(\"AAAAE\")\n",
    "solution(\"I\")"
   ]
  },
  {
   "cell_type": "code",
   "execution_count": 2,
   "metadata": {},
   "outputs": [
    {
     "name": "stdout",
     "output_type": "stream",
     "text": [
      "4321\n"
     ]
    }
   ],
   "source": [
    "print(''.join(sorted('1324',reverse=True)))"
   ]
  },
  {
   "cell_type": "code",
   "execution_count": 10,
   "metadata": {},
   "outputs": [
    {
     "name": "stdout",
     "output_type": "stream",
     "text": [
      "['']\n",
      "['']\n",
      "['']\n"
     ]
    }
   ],
   "source": []
  },
  {
   "cell_type": "code",
   "execution_count": 16,
   "metadata": {},
   "outputs": [
    {
     "name": "stdout",
     "output_type": "stream",
     "text": [
      "{'abc', 'test1', 'ddd'}\n",
      "abc\n",
      "ddd\n",
      "test1\n"
     ]
    }
   ],
   "source": [
    "import sys\n",
    "n = 3\n",
    "slist = set()\n",
    "\n",
    "tests = [\"test1\",\"abc\", \"ddd\"]\n",
    "for x in tests : \n",
    "    slist.add(x)\n",
    "\n",
    "print(slist)\n",
    "slist = sorted(slist, key = lambda x : (len(x),x))\n",
    "\n",
    "for x in slist : \n",
    "    print(x)"
   ]
  },
  {
   "cell_type": "code",
   "execution_count": 18,
   "metadata": {},
   "outputs": [
    {
     "name": "stdout",
     "output_type": "stream",
     "text": [
      "[[0, 50, '123'], [1, 30, '345']]\n",
      "[[1, 30, '345'], [0, 50, '123']]\n"
     ]
    }
   ],
   "source": [
    "n = 2\n",
    "ss = [[50,'123'], [30,'345']]\n",
    "\n",
    "l = []\n",
    "for i in range(n) : \n",
    "    l.append([i] + ss[i])\n",
    "print(l)\n",
    "\n",
    "l = sorted(l, key=lambda x : [x[1],x[0]])\n",
    "\n",
    "print(l)\n"
   ]
  },
  {
   "cell_type": "code",
   "execution_count": 21,
   "metadata": {},
   "outputs": [
    {
     "name": "stdout",
     "output_type": "stream",
     "text": [
      "['1000', '999', '1000', '999', '1000', '999']\n",
      "0 1 0 1 0 1 "
     ]
    }
   ],
   "source": [
    "\n",
    "\n",
    "alist = '1000 999 1000 999 1000 999'.strip().split()\n",
    "\n",
    "print(alist)\n",
    "asetl = sorted(set(alist))\n",
    "\n",
    "aset = {x : asetl.index(x) for x in asetl}\n",
    "for x in alist : \n",
    "    print(aset.get(x), end=' ')"
   ]
  },
  {
   "cell_type": "code",
   "execution_count": 25,
   "metadata": {},
   "outputs": [
    {
     "name": "stdout",
     "output_type": "stream",
     "text": [
      "3628800\n"
     ]
    }
   ],
   "source": [
    "\n",
    "n = 10\n",
    "\n",
    "def facto(n) : \n",
    "    if n == 0 : return 0\n",
    "    if n == 1 : return n\n",
    "    return n*facto(n-1)\n",
    "\n",
    "print(facto(n))\n"
   ]
  },
  {
   "cell_type": "code",
   "execution_count": 28,
   "metadata": {},
   "outputs": [
    {
     "data": {
      "text/plain": [
       "0"
      ]
     },
     "execution_count": 28,
     "metadata": {},
     "output_type": "execute_result"
    }
   ],
   "source": [
    "def fibon(n) : \n",
    "    if n == 0 : return 0\n",
    "    if n == 1 : return 1\n",
    "    return fibon(n-1) + fibon(n-2)\n",
    "\n",
    "fibon(0)"
   ]
  },
  {
   "cell_type": "code",
   "execution_count": 61,
   "metadata": {},
   "outputs": [
    {
     "name": "stdout",
     "output_type": "stream",
     "text": [
      "1 2\n",
      "1 3\n",
      "1 3\n",
      "0 2\n",
      "0 1\n",
      "0 0\n"
     ]
    }
   ],
   "source": [
    "# find middle \n",
    "# or user two-pointer \n",
    "s =  ['AAA','ABBA','ABABA','ABCA','PALINDROME','']\n",
    "\n",
    "def isP(s,mid,i,cnt) : \n",
    "    if len(s) == 0 : return (0, 0)\n",
    "    if mid < i : \n",
    "        if len(s) % 2 == 0 : return (1,cnt+1)\n",
    "        return (1,cnt)\n",
    "    if s[i] == s[-(i+1)] : \n",
    "        return isP(s,mid,i+1,cnt+1)\n",
    "    return (0,cnt+1)\n",
    "\n",
    "# 1 2\n",
    "# 1 3\n",
    "# 1 3\n",
    "# 0 2\n",
    "# 0 1\n",
    "\n",
    "for a in s : \n",
    "    mid = int((len(a)-1) / 2)\n",
    "    print(*isP(a,mid,0,0))\n",
    "    "
   ]
  },
  {
   "cell_type": "code",
   "execution_count": 15,
   "metadata": {},
   "outputs": [
    {
     "name": "stdout",
     "output_type": "stream",
     "text": [
      "[5, 6, 7, 8, 9]\n",
      "21\n"
     ]
    }
   ],
   "source": [
    "n,t = 5, 21\n",
    "\n",
    "from itertools import product\n",
    "\n",
    "nlist = list(map(int,\"5 6 7 8 9\".split()))\n",
    "print(nlist)\n",
    "maxn = -1\n",
    "for x in product(nlist,repeat=3) : \n",
    "    sumx = sum(x)\n",
    "    if maxn < sumx <= t : \n",
    "        if sumx == t : break\n",
    "        maxn = max(sumx, t) \n",
    "        \n",
    "\n",
    "print(maxn)"
   ]
  },
  {
   "cell_type": "markdown",
   "metadata": {},
   "source": [
    "## 2231"
   ]
  },
  {
   "cell_type": "code",
   "execution_count": 19,
   "metadata": {},
   "outputs": [
    {
     "name": "stdout",
     "output_type": "stream",
     "text": [
      "217 212\n",
      "212\n"
     ]
    }
   ],
   "source": [
    "n = 216\n",
    "\n",
    "def sol2231(n) :\n",
    "    N = n + 1\n",
    "    result = 0\n",
    "    for i in range(1,N+1) : \n",
    "        A = list(map(int, str(i)))\n",
    "        result = sum(A) + i \n",
    "\n",
    "        if result == N : \n",
    "            print(i)\n",
    "            break\n",
    "        \n",
    "        if i == N : \n",
    "            print(0)\n",
    "\n",
    "\n",
    "sol2231(n) "
   ]
  },
  {
   "cell_type": "markdown",
   "metadata": {},
   "source": [
    "## 7568"
   ]
  },
  {
   "cell_type": "code",
   "execution_count": 23,
   "metadata": {},
   "outputs": [
    {
     "ename": "SyntaxError",
     "evalue": "f-string: expecting '}' (2573216776.py, line 18)",
     "output_type": "error",
     "traceback": [
      "\u001b[0;36m  Cell \u001b[0;32mIn [23], line 18\u001b[0;36m\u001b[0m\n\u001b[0;31m    print(f\"ranks : {results\")\u001b[0m\n\u001b[0m                             ^\u001b[0m\n\u001b[0;31mSyntaxError\u001b[0m\u001b[0;31m:\u001b[0m f-string: expecting '}'\n"
     ]
    }
   ],
   "source": [
    "'''5\n",
    "55 185\n",
    "58 183\n",
    "88 186\n",
    "60 175\n",
    "46 155\n",
    "'''\n",
    "# 2 2 1 2 5\n",
    "nl = [(55,185),(58,183),(88,186),(60,175),(46,155)]\n",
    "results = []\n",
    "def sol7568(nl) : \n",
    "    for i in nl : \n",
    "        rank = 1\n",
    "        for j in nl : \n",
    "            if i[0] < j[0] and i[1] < j[1] : \n",
    "                rank += 1\n",
    "        results.append(rank)\n",
    "    print(f\"ranks : {results\")\n",
    "    return \n",
    "    \n",
    "sol7568(nl)\n"
   ]
  },
  {
   "cell_type": "code",
   "execution_count": 28,
   "metadata": {},
   "outputs": [
    {
     "name": "stdout",
     "output_type": "stream",
     "text": [
      "day light\n"
     ]
    },
    {
     "data": {
      "text/plain": [
       "10089.592592592593"
      ]
     },
     "execution_count": 28,
     "metadata": {},
     "output_type": "execute_result"
    },
    {
     "data": {
      "text/plain": [
       "9899.217391304348"
      ]
     },
     "execution_count": 28,
     "metadata": {},
     "output_type": "execute_result"
    },
    {
     "name": "stdout",
     "output_type": "stream",
     "text": [
      "==================================\n",
      "night vision\n"
     ]
    },
    {
     "data": {
      "text/plain": [
       "12990.666666666666"
      ]
     },
     "execution_count": 28,
     "metadata": {},
     "output_type": "execute_result"
    },
    {
     "data": {
      "text/plain": [
       "11751.125"
      ]
     },
     "execution_count": 28,
     "metadata": {},
     "output_type": "execute_result"
    }
   ],
   "source": [
    "import numpy as np \n",
    "\n",
    "print('day light')\n",
    "np.mean([8508,10700,10735,10340,9173,9630,10975,10770,10073,11697,9203,9945,9548,10772,9128,12563,11554,9253,9719,10409,8958,10764,9661,10307,8942,9748,9344])\n",
    "np.mean([9835,11522,10893,9973,8221,8458,9553,10036,10459,9298,9408,11085,9269,10289,11274,9311,9048,8007,10184,9764,10904,11448,9443])\n",
    "print('========================================================================================================================================')\n",
    "print('night vision')\n",
    "np.mean([13173,13862,11937])\n",
    "np.mean([10709,13160,12670,12467,13129,10160,10595,11119])\n",
    "\n"
   ]
  }
 ],
 "metadata": {
  "kernelspec": {
   "display_name": "Python 3.9.14 64-bit ('3.9.14')",
   "language": "python",
   "name": "python3"
  },
  "language_info": {
   "codemirror_mode": {
    "name": "ipython",
    "version": 3
   },
   "file_extension": ".py",
   "mimetype": "text/x-python",
   "name": "python",
   "nbconvert_exporter": "python",
   "pygments_lexer": "ipython3",
   "version": "3.9.14"
  },
  "orig_nbformat": 4,
  "vscode": {
   "interpreter": {
    "hash": "c63aea0984a35b7fbea36e11b7e60a975132539e8c2a2800a4585e940e4fb1ed"
   }
  }
 },
 "nbformat": 4,
 "nbformat_minor": 2
}
